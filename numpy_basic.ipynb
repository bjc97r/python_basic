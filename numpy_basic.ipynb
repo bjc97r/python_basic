{
 "cells": [
  {
   "cell_type": "markdown",
   "metadata": {},
   "source": [
    "# Numpy Basics"
   ]
  },
  {
   "cell_type": "code",
   "execution_count": 6,
   "metadata": {
    "scrolled": false
   },
   "outputs": [
    {
     "name": "stdout",
     "output_type": "stream",
     "text": [
      "array1  type: <class 'numpy.ndarray'>\n",
      "array1 shape: (3,)\n",
      "array2  type: <class 'numpy.ndarray'>\n",
      "array2 shape: (2, 3)\n"
     ]
    }
   ],
   "source": [
    "import numpy as np\n",
    "\n",
    "a1 = np.array([1, 2, 3])\n",
    "print('array1  type:', type(a1))\n",
    "print('array1 shape:', a1.shape)\n",
    "\n",
    "a2 = np.array([[1, 2, 3], [2, 3, 4]])\n",
    "print('array2  type:', type(a2))\n",
    "print('array2 shape:', a2.shape)"
   ]
  },
  {
   "cell_type": "markdown",
   "metadata": {},
   "source": [
    "# NumPy Array\n",
    "1. simple array\n",
    "  - simple too\n",
    "  - jump ahead\n",
    "1. this\n",
    "\n",
    "[Google](http://www.google.com)\n"
   ]
  },
  {
   "cell_type": "code",
   "execution_count": 3,
   "metadata": {},
   "outputs": [
    {
     "name": "stdout",
     "output_type": "stream",
     "text": [
      "array3  type: <class 'numpy.ndarray'>\n",
      "array3 shape: (1, 3)\n"
     ]
    }
   ],
   "source": [
    "a3 = np.array([[1, 2, 3]])\n",
    "print('array3  type:', type(a3))\n",
    "print('array3 shape:', a3.shape)\n",
    "\n"
   ]
  },
  {
   "cell_type": "code",
   "execution_count": 10,
   "metadata": {},
   "outputs": [
    {
     "name": "stdout",
     "output_type": "stream",
     "text": [
      "array1:  1차원, array2: 02차원, array2:2차원\n"
     ]
    }
   ],
   "source": [
    "print('array1: {0:2d}차원, array2: {1:02d}차원, array2:{2}차원'.format(a1.ndim, a2.ndim, a3.ndim))"
   ]
  },
  {
   "cell_type": "code",
   "execution_count": 11,
   "metadata": {
    "scrolled": true
   },
   "outputs": [
    {
     "name": "stdout",
     "output_type": "stream",
     "text": [
      "<class 'list'>\n",
      "<class 'numpy.ndarray'>\n",
      "[0 1 2 3 4 5 6 7 8 9] int32\n"
     ]
    }
   ],
   "source": [
    "list1 = list(range(10))\n",
    "print(type(list1))\n",
    "array1 = np.array(list1)\n",
    "print(type(array1))\n",
    "print(array1, array1.dtype)"
   ]
  },
  {
   "cell_type": "code",
   "execution_count": 16,
   "metadata": {},
   "outputs": [
    {
     "name": "stdout",
     "output_type": "stream",
     "text": [
      "[[0 0]\n",
      " [0 0]\n",
      " [0 0]] [[1. 1.]\n",
      " [1. 1.]\n",
      " [1. 1.]]\n"
     ]
    }
   ],
   "source": [
    "Z = np.zeros((3,2),dtype='uint32')\n",
    "U = np.ones((3,2))\n",
    "print(Z, U)"
   ]
  },
  {
   "cell_type": "code",
   "execution_count": 27,
   "metadata": {},
   "outputs": [
    {
     "name": "stdout",
     "output_type": "stream",
     "text": [
      "<class 'numpy.ndarray'>\n",
      "(10,)\n",
      "[0 1 2 3 4 5 6 7 8 9]\n",
      "[[0 1 2 3 4]\n",
      " [5 6 7 8 9]]\n",
      "[[0 1]\n",
      " [2 3]\n",
      " [4 5]\n",
      " [6 7]\n",
      " [8 9]]\n",
      "[[0, 1], [2, 3], [4, 5], [6, 7], [8, 9]]\n",
      "[[0 1]\n",
      " [2 3]\n",
      " [4 5]\n",
      " [6 7]\n",
      " [8 9]]\n"
     ]
    }
   ],
   "source": [
    "M = np.arange(10)\n",
    "print(type(M))\n",
    "print(M.shape)\n",
    "print(M)\n",
    "N = M.reshape(2,5)\n",
    "print(N)\n",
    "P = M.reshape(5,-1)\n",
    "print(P)\n",
    "print(P.tolist())\n",
    "print(P[:])"
   ]
  },
  {
   "cell_type": "code",
   "execution_count": 25,
   "metadata": {},
   "outputs": [
    {
     "name": "stdout",
     "output_type": "stream",
     "text": [
      "[ 2  4  6  8 10]\n",
      "[0.         0.03173326 0.06346652 0.09519978 0.12693304 0.1586663\n",
      " 0.19039955 0.22213281 0.25386607 0.28559933 0.31733259 0.34906585\n",
      " 0.38079911 0.41253237 0.44426563 0.47599889 0.50773215 0.53946541\n",
      " 0.57119866 0.60293192 0.63466518 0.66639844 0.6981317  0.72986496\n",
      " 0.76159822 0.79333148 0.82506474 0.856798   0.88853126 0.92026451\n",
      " 0.95199777 0.98373103 1.01546429 1.04719755 1.07893081 1.11066407\n",
      " 1.14239733 1.17413059 1.20586385 1.23759711 1.26933037 1.30106362\n",
      " 1.33279688 1.36453014 1.3962634  1.42799666 1.45972992 1.49146318\n",
      " 1.52319644 1.5549297  1.58666296 1.61839622 1.65012947 1.68186273\n",
      " 1.71359599 1.74532925 1.77706251 1.80879577 1.84052903 1.87226229\n",
      " 1.90399555 1.93572881 1.96746207 1.99919533 2.03092858 2.06266184\n",
      " 2.0943951  2.12612836 2.15786162 2.18959488 2.22132814 2.2530614\n",
      " 2.28479466 2.31652792 2.34826118 2.37999443 2.41172769 2.44346095\n",
      " 2.47519421 2.50692747 2.53866073 2.57039399 2.60212725 2.63386051\n",
      " 2.66559377 2.69732703 2.72906028 2.76079354 2.7925268  2.82426006\n",
      " 2.85599332 2.88772658 2.91945984 2.9511931  2.98292636 3.01465962\n",
      " 3.04639288 3.07812614 3.10985939 3.14159265]\n"
     ]
    }
   ],
   "source": [
    "C = np.arange(2, 12, 2)\n",
    "print(C)\n",
    "t = np.linspace(0, np.pi, 100, 'True')\n",
    "print(t)"
   ]
  },
  {
   "cell_type": "code",
   "execution_count": 41,
   "metadata": {},
   "outputs": [
    {
     "name": "stdout",
     "output_type": "stream",
     "text": [
      "[[ 1  2 14  0]\n",
      " [13  9 11 15]\n",
      " [ 7 10  3  4]\n",
      " [ 6  5 12  8]]\n",
      "[[ 2 14  0]\n",
      " [ 9 11 15]\n",
      " [10  3  4]\n",
      " [ 5 12  8]]\n",
      "[[ 1  2 14  0]\n",
      " [ 7 10  3  4]]\n"
     ]
    }
   ],
   "source": [
    "M1 = np.random.permutation(16).reshape(4,4)\n",
    "print(M1)\n",
    "m3 = M1[:,1:]\n",
    "print(m3)\n",
    "print(M1[[0,2]])"
   ]
  },
  {
   "cell_type": "code",
   "execution_count": 45,
   "metadata": {},
   "outputs": [
    {
     "name": "stdout",
     "output_type": "stream",
     "text": [
      "[6 3 2 0 4 5 8 9 7 1]\n",
      "[5 3 2 0 4 5 5 5 5 1] [3 2 0 4 1]\n"
     ]
    }
   ],
   "source": [
    "P = np.random.permutation(10)\n",
    "print(P)\n",
    "Q = P[P<5]\n",
    "P[P>5] = 5\n",
    "print(P, Q)"
   ]
  },
  {
   "cell_type": "code",
   "execution_count": null,
   "metadata": {},
   "outputs": [],
   "source": [
    "S = np.sort(Q)\n",
    "print(S)\n",
    "print(Q)\n",
    "Q.sort()\n",
    "print(Q)"
   ]
  },
  {
   "cell_type": "code",
   "execution_count": 63,
   "metadata": {},
   "outputs": [
    {
     "name": "stdout",
     "output_type": "stream",
     "text": [
      "[[0.852 0.41  0.77  0.498]\n",
      " [0.699 0.463 0.45  0.789]\n",
      " [0.912 0.912 0.853 0.724]\n",
      " [0.087 0.027 0.089 0.778]]\n",
      "[[0.087 0.027 0.089 0.498]\n",
      " [0.699 0.41  0.45  0.724]\n",
      " [0.852 0.463 0.77  0.778]\n",
      " [0.912 0.912 0.853 0.789]]\n",
      "[[3 3 3 0]\n",
      " [1 0 1 2]\n",
      " [0 1 0 3]\n",
      " [2 2 2 1]]\n",
      "[[[0.087 0.027 0.089 0.778]\n",
      "  [0.087 0.027 0.089 0.778]\n",
      "  [0.087 0.027 0.089 0.778]\n",
      "  [0.852 0.41  0.77  0.498]]\n",
      "\n",
      " [[0.699 0.463 0.45  0.789]\n",
      "  [0.852 0.41  0.77  0.498]\n",
      "  [0.699 0.463 0.45  0.789]\n",
      "  [0.912 0.912 0.853 0.724]]\n",
      "\n",
      " [[0.852 0.41  0.77  0.498]\n",
      "  [0.699 0.463 0.45  0.789]\n",
      "  [0.852 0.41  0.77  0.498]\n",
      "  [0.087 0.027 0.089 0.778]]\n",
      "\n",
      " [[0.912 0.912 0.853 0.724]\n",
      "  [0.912 0.912 0.853 0.724]\n",
      "  [0.912 0.912 0.853 0.724]\n",
      "  [0.699 0.463 0.45  0.789]]]\n"
     ]
    }
   ],
   "source": [
    "R = np.random.random([4,4])\n",
    "np.set_printoptions(precision=3)\n",
    "print(R)\n",
    "print(np.sort(R,axis=0))\n",
    "A = np.argsort(R,axis=0)\n",
    "print(A)\n",
    "C = R[A]\n",
    "print(C)"
   ]
  },
  {
   "cell_type": "code",
   "execution_count": 62,
   "metadata": {},
   "outputs": [
    {
     "name": "stdout",
     "output_type": "stream",
     "text": [
      "[[1 2 3]\n",
      " [4 5 6]]\n",
      "[[ 7  8]\n",
      " [ 9 10]\n",
      " [11 12]]\n",
      "[[ 58  64]\n",
      " [139 154]]\n",
      "[[1 4]\n",
      " [2 5]\n",
      " [3 6]]\n"
     ]
    }
   ],
   "source": [
    "A = np.arange(1,7).reshape([2,3])\n",
    "B = np.arange(7,13).reshape([3,2])\n",
    "print(A)\n",
    "print(B)\n",
    "print(np.dot(A,B))\n",
    "print(np.transpose(A))"
   ]
  }
 ],
 "metadata": {
  "kernelspec": {
   "display_name": "Python 3",
   "language": "python",
   "name": "python3"
  },
  "language_info": {
   "codemirror_mode": {
    "name": "ipython",
    "version": 3
   },
   "file_extension": ".py",
   "mimetype": "text/x-python",
   "name": "python",
   "nbconvert_exporter": "python",
   "pygments_lexer": "ipython3",
   "version": "3.7.6"
  }
 },
 "nbformat": 4,
 "nbformat_minor": 4
}
